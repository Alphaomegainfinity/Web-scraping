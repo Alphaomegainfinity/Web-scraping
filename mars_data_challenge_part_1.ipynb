{
 "cells": [
  {
   "cell_type": "code",
   "execution_count": 54,
   "metadata": {},
   "outputs": [],
   "source": [
    "#Dependencies\n",
    "from splinter import Browser\n",
    "from bs4 import BeautifulSoup\n",
    "from webdriver_manager.chrome import ChromeDriverManager\n",
    "from splinter.exceptions import ElementDoesNotExist\n",
    "import json"
   ]
  },
  {
   "cell_type": "code",
   "execution_count": 2,
   "metadata": {},
   "outputs": [
    {
     "name": "stderr",
     "output_type": "stream",
     "text": [
      "[WDM] - Downloading: 100%|██████████| 6.29M/6.29M [00:00<00:00, 12.6MB/s]\n"
     ]
    }
   ],
   "source": [
    "#set-up driver\n",
    "executable_path = {'executable_path': ChromeDriverManager().install()}\n",
    "browser = Browser('chrome', **executable_path, headless=False)"
   ]
  },
  {
   "cell_type": "code",
   "execution_count": 3,
   "metadata": {},
   "outputs": [],
   "source": [
    "#insert the website link that it is going to scrap\n",
    "url = 'https://redplanetscience.com/'\n",
    "browser.visit(url)"
   ]
  },
  {
   "cell_type": "code",
   "execution_count": 4,
   "metadata": {},
   "outputs": [],
   "source": [
    "html = browser.html\n",
    "soup = BeautifulSoup(html, 'html.parser')"
   ]
  },
  {
   "cell_type": "code",
   "execution_count": 24,
   "metadata": {},
   "outputs": [],
   "source": [
    "#collect list of articles and preview list\n",
    "section = soup.find('section', class_='image_and_description_container')\n",
    "\n",
    "mars_lists = section.find_all('div', class_ = 'list_text')"
   ]
  },
  {
   "cell_type": "code",
   "execution_count": 51,
   "metadata": {},
   "outputs": [
    {
     "name": "stdout",
     "output_type": "stream",
     "text": [
      "Scraping Complete\n"
     ]
    }
   ],
   "source": [
    "#creating an empty list to store a list of all articles and preview\n",
    "article_list = []\n",
    "preview_list = []\n",
    "\n",
    "#creating a loop to search for each article with its preview. Then zip it together\n",
    "for mars_list in mars_lists:\n",
    "    \n",
    "    #searching for article\n",
    "    title = mars_list.find ('div', class_='content_title')\n",
    "    title = title.text.strip()\n",
    "    article_list.append(title)\n",
    "\n",
    "    #searching for preview per article\n",
    "    preview = mars_list.find('div', class_ = 'article_teaser_body')\n",
    "    preview = preview.text.strip()\n",
    "    preview_list.append(preview)\n",
    "\n",
    "#zip a list of preview and article\n",
    "article_n_preview = zip(article_list,preview_list)\n",
    "\n",
    "#searching all the website database\n",
    "try:\n",
    "    for article_preview in article_n_preview:\n",
    "        browser.links.find_by_partial_text('MORE').click()\n",
    "except ElementDoesNotExist:\n",
    "    print(\"Scraping Complete\")"
   ]
  },
  {
   "cell_type": "code",
   "execution_count": 52,
   "metadata": {},
   "outputs": [
    {
     "data": {
      "text/plain": [
       "[{'title': \"NASA's InSight Flexes Its Arm While Its 'Mole' Hits Pause\",\n",
       "  'preview': \"Now that the lander's robotic arm has helped the mole get underground, it will resume science activities that have been on hold.\"},\n",
       " {'title': 'NASA Invites Public to Share Excitement of Mars 2020 Perseverance Rover Launch',\n",
       "  'preview': 'There are lots of ways to participate in the historic event, which is targeted for July 30.'},\n",
       " {'title': 'NASA to Hold Mars 2020 Perseverance Rover Launch Briefing',\n",
       "  'preview': \"Learn more about the agency's next Red Planet mission during a live event on June 17.\"},\n",
       " {'title': \"Q&A with the Student Who Named Ingenuity, NASA's Mars Helicopter\",\n",
       "  'preview': 'As a longtime fan of space exploration, Vaneeza Rupani appreciates the creativity and collaboration involved with trying to fly on another planet.'},\n",
       " {'title': 'NASA to Broadcast Mars 2020 Perseverance Launch, Prelaunch Activities',\n",
       "  'preview': 'Starting July 27, news activities will cover everything from mission engineering and science to returning samples from Mars to, of course, the launch itself.'},\n",
       " {'title': \"Media Get a Close-Up of NASA's Mars 2020 Rover\",\n",
       "  'preview': \"The clean room at NASA's Jet Propulsion Laboratory was open to the media to see NASA's next Mars explorer before it leaves for Florida in preparation for a summertime launch.\"},\n",
       " {'title': \"A Year of Surprising Science From NASA's InSight Mars Mission\",\n",
       "  'preview': \"A batch of new papers summarizes the lander's findings above and below the surface of the Red Planet.\"},\n",
       " {'title': \"NASA's Perseverance Rover Bringing 3D-Printed Metal Parts to Mars\",\n",
       "  'preview': \"For hobbyists and makers, 3D printing expands creative possibilities; for specialized engineers, it's also key to next-generation spacecraft design.\"},\n",
       " {'title': \"NASA Wins 4 Webbys, 4 People's Voice Awards\",\n",
       "  'preview': 'Winners include the JPL-managed \"Send Your Name to Mars\" campaign, NASA\\'s Global Climate Change website and Solar System Interactive.'},\n",
       " {'title': \"NASA's MAVEN Explores Mars to Understand Radio Interference at Earth\",\n",
       "  'preview': 'NASA’s MAVEN spacecraft has discovered “layers” and “rifts” in the electrically charged part of the upper atmosphere of Mars.'},\n",
       " {'title': 'Mars 2020 Unwrapped and Ready for More Testing',\n",
       "  'preview': \"In time-lapse video, bunny-suited engineers remove the inner layer of protective foil on NASA's Mars 2020 rover after it was relocated for testing.\"},\n",
       " {'title': 'MAVEN Maps Electric Currents around Mars that are Fundamental to Atmospheric Loss',\n",
       "  'preview': 'Five years after NASA’s MAVEN spacecraft entered into orbit around Mars, data from the mission has led to the creation of a map of electric current systems in the Martian atmosphere.'},\n",
       " {'title': \"NASA's Perseverance Rover Will Look at Mars Through These 'Eyes'\",\n",
       "  'preview': 'A pair of zoomable cameras will help scientists and rover drivers with high-resolution color images.'},\n",
       " {'title': \"6 Things to Know About NASA's Ingenuity Mars Helicopter\",\n",
       "  'preview': 'The first helicopter attempting to fly on another planet is a marvel of engineering. Get up to speed with these key facts about its plans.'},\n",
       " {'title': \"NASA-JPL Names 'Rolling Stones Rock' on Mars\",\n",
       "  'preview': \"NASA's Mars InSight mission honored one of the biggest bands of all time at Pasadena concert.\"}]"
      ]
     },
     "execution_count": 52,
     "metadata": {},
     "output_type": "execute_result"
    }
   ],
   "source": [
    "articles_list = list(zip(article_list,preview_list))\n",
    "keys = (\"title\", \"preview\")\n",
    "\n",
    "#print out a list of dictionary\n",
    "mars_articles = [dict(zip(keys,values))for values in articles_list]\n",
    "mars_articles"
   ]
  },
  {
   "cell_type": "code",
   "execution_count": 55,
   "metadata": {},
   "outputs": [],
   "source": [
    "#export a list of dictionary to json file\n",
    "\n",
    "with open (\"mars_news.json\", \"w\") as fp:\n",
    "    json.dump (mars_articles,fp, indent = 4)"
   ]
  },
  {
   "cell_type": "code",
   "execution_count": 53,
   "metadata": {},
   "outputs": [],
   "source": [
    "#shutdown a browser\n",
    "browser.quit()"
   ]
  }
 ],
 "metadata": {
  "kernelspec": {
   "display_name": "Python 3.7.7 ('PythonData')",
   "language": "python",
   "name": "python3"
  },
  "language_info": {
   "codemirror_mode": {
    "name": "ipython",
    "version": 3
   },
   "file_extension": ".py",
   "mimetype": "text/x-python",
   "name": "python",
   "nbconvert_exporter": "python",
   "pygments_lexer": "ipython3",
   "version": "3.7.7"
  },
  "orig_nbformat": 4,
  "vscode": {
   "interpreter": {
    "hash": "7b04545d47c7e2738fd342f4668feff05623af388be79fa657245cc082efc99d"
   }
  }
 },
 "nbformat": 4,
 "nbformat_minor": 2
}
